{
 "cells": [
  {
   "cell_type": "code",
   "execution_count": 3,
   "id": "4507bcbc-cd65-4cae-ac7b-1fc8a3311be4",
   "metadata": {
    "tags": []
   },
   "outputs": [
    {
     "name": "stdout",
     "output_type": "stream",
     "text": [
      "file.joblib\n",
      "[('a', [1, 2, 3]), ('b', array([0, 1, 2, 3, 4, 5, 6, 7, 8, 9]))]\n",
      "[('a', [1, 2, 3]), ('b', array([0, 1, 2, 3, 4, 5, 6, 7, 8, 9]))]\n",
      "minio\n",
      "minio123\n",
      "http://minio-minio.apps.ocp4.example.com\n",
      "saved-models\n",
      "Filefile.joblib uploaded to s3\n"
     ]
    }
   ],
   "source": [
    "import numpy as np\n",
    "import plotly.express as px\n",
    "\n",
    "import os\n",
    "import boto3\n",
    "import joblib\n",
    "import io\n",
    "\n",
    "# first create a temp dir\n",
    "\n",
    "from tempfile import mkdtemp\n",
    "savedir = mkdtemp()\n",
    "test_file_name = os.path.join(savedir,'test_joblib')\n",
    "file_name = 'file.joblib'\n",
    "file_name\n",
    "# then create an object to be persisted\n",
    "to_persist = [('a', [1, 2, 3]), ('b', np.arange(10))]\n",
    "\n",
    "# which is saved into test_file_name\n",
    "#joblib.dump(to_persist, test_file_name) \n",
    "#loaded_object = joblib.load(test_file_name)\n",
    "\n",
    "joblib.dump(to_persist,file_name)\n",
    "loaded_object = joblib.load(file_name)\n",
    "\n",
    "print (file_name)\n",
    "print(to_persist)\n",
    "print(loaded_object)\n",
    "\n",
    "key_id = os.getenv(\"AWS_ACCESS_KEY_ID\")\n",
    "secret_key =os.getenv(\"AWS_SECRET_ACCESS_KEY\")\n",
    "endpoint = os.getenv(\"AWS_S3_ENDPOINT\")\n",
    "bucket_name = os.getenv(\"AWS_S3_BUCKET\")\n",
    "\n",
    "print(key_id)\n",
    "print(secret_key)\n",
    "print(endpoint)\n",
    "print(bucket_name)\n",
    "\n",
    "s3_client = boto3.client(\n",
    " \"s3\",\n",
    "  aws_access_key_id=key_id,\n",
    "  aws_secret_access_key=secret_key,\n",
    "  endpoint_url=endpoint,\n",
    "  verify=False\n",
    ")\n",
    "\n",
    "s3_client.upload_file(file_name,bucket_name,file_name)\n",
    "print(f\"File{file_name} uploaded to s3\")"
   ]
  },
  {
   "cell_type": "code",
   "execution_count": null,
   "id": "21444f6d-967f-4de4-b24a-d60dc2cf1b0a",
   "metadata": {},
   "outputs": [],
   "source": []
  }
 ],
 "metadata": {
  "kernelspec": {
   "display_name": "Python 3.9",
   "language": "python",
   "name": "python3"
  },
  "language_info": {
   "codemirror_mode": {
    "name": "ipython",
    "version": 3
   },
   "file_extension": ".py",
   "mimetype": "text/x-python",
   "name": "python",
   "nbconvert_exporter": "python",
   "pygments_lexer": "ipython3",
   "version": "3.9.16"
  }
 },
 "nbformat": 4,
 "nbformat_minor": 5
}
