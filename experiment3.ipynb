{
 "cells": [
  {
   "cell_type": "code",
   "execution_count": 5,
   "id": "c37448b1-2ec0-41bc-b10f-a88e26e512d4",
   "metadata": {
    "tags": []
   },
   "outputs": [
    {
     "name": "stdout",
     "output_type": "stream",
     "text": [
      "http://minio-minio.apps.ocp4.example.com\n"
     ]
    },
    {
     "data": {
      "text/plain": [
       "['test1.joblib']"
      ]
     },
     "execution_count": 5,
     "metadata": {},
     "output_type": "execute_result"
    }
   ],
   "source": [
    "import os\n",
    "import joblib\n",
    "import boto3\n",
    "\n",
    "access_key = os.getenv(\"AWS_ACCESS_KEY_ID\")\n",
    "secret_key=os.getenv(\"AWS_SECRET_ACCESS_KEY\")\n",
    "region=os.getenv(\"AWS_DEFAULT_REGION\")\n",
    "prediction_data=os.getenv(\"AWS_S3_BUCKET\")\n",
    "endpoint=os.getenv(\"AWS_S3_ENDPOINT\")\n",
    "print(endpoint)\n",
    "\n",
    "import numpy as np\n",
    "to_persist = [('a', [1, 2, 3]), ('b', np.arange(10))]\n",
    "\n",
    "joblib.dump(to_persist,\"test1.joblib\")"
   ]
  },
  {
   "cell_type": "code",
   "execution_count": 6,
   "id": "8b6d33b9-968a-47c0-ba2a-6deb53651172",
   "metadata": {
    "tags": []
   },
   "outputs": [],
   "source": [
    "s3_client=boto3.client(\n",
    "    \"s3\",\n",
    "    aws_access_key_id=access_key,\n",
    "    aws_secret_access_key=secret_key,\n",
    "    endpoint_url=endpoint,\n",
    "    verify=False\n",
    ")"
   ]
  },
  {
   "cell_type": "code",
   "execution_count": 7,
   "id": "7701ca66-a4f2-4477-9595-e5f1dd8161dc",
   "metadata": {
    "tags": []
   },
   "outputs": [],
   "source": [
    "s3_client.upload_file(\"test1.joblib\",prediction_data,\"test1.joblib\")"
   ]
  },
  {
   "cell_type": "code",
   "execution_count": null,
   "id": "93e8e493-a1d3-4613-b591-1a7c70d6fafb",
   "metadata": {},
   "outputs": [],
   "source": []
  }
 ],
 "metadata": {
  "kernelspec": {
   "display_name": "Python 3.9",
   "language": "python",
   "name": "python3"
  },
  "language_info": {
   "codemirror_mode": {
    "name": "ipython",
    "version": 3
   },
   "file_extension": ".py",
   "mimetype": "text/x-python",
   "name": "python",
   "nbconvert_exporter": "python",
   "pygments_lexer": "ipython3",
   "version": "3.9.16"
  }
 },
 "nbformat": 4,
 "nbformat_minor": 5
}
