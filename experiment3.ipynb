{
 "cells": [
  {
   "cell_type": "code",
   "execution_count": 17,
   "id": "c37448b1-2ec0-41bc-b10f-a88e26e512d4",
   "metadata": {
    "tags": []
   },
   "outputs": [
    {
     "name": "stdout",
     "output_type": "stream",
     "text": [
      "minio\n",
      "minio123\n",
      "any\n",
      "http://minio-minio.apps.ocp4.example.com\n",
      "models-bucket\n"
     ]
    },
    {
     "data": {
      "text/plain": [
       "['cardio-model.joblib']"
      ]
     },
     "execution_count": 17,
     "metadata": {},
     "output_type": "execute_result"
    }
   ],
   "source": [
    "import os\n",
    "import joblib\n",
    "import boto3\n",
    "\n",
    "key_id = os.getenv(\"AWS_ACCESS_KEY_ID\")\n",
    "print(key_id)\n",
    "secret_key= os.getenv(\"AWS_SECRET_ACCESS_KEY\")\n",
    "print(secret_key)\n",
    "region = os.getenv(\"AWS_DEFAULT_REGION\")\n",
    "print(region)\n",
    "s3_endpoint = os.getenv(\"AWS_S3_ENDPOINT\")\n",
    "print(s3_endpoint)\n",
    "bucket_name =  os.getenv(\"AWS_S3_BUCKET\")\n",
    "print(bucket_name)\n",
    "\n",
    "import numpy as np\n",
    "to_persist = [('a', [1, 2, 3]), ('b', np.arange(10))]\n",
    "\n",
    "joblib.dump(to_persist, \"cardio-model.joblib\")"
   ]
  },
  {
   "cell_type": "code",
   "execution_count": null,
   "id": "93e8e493-a1d3-4613-b591-1a7c70d6fafb",
   "metadata": {},
   "outputs": [],
   "source": []
  }
 ],
 "metadata": {
  "kernelspec": {
   "display_name": "Python 3.9",
   "language": "python",
   "name": "python3"
  },
  "language_info": {
   "codemirror_mode": {
    "name": "ipython",
    "version": 3
   },
   "file_extension": ".py",
   "mimetype": "text/x-python",
   "name": "python",
   "nbconvert_exporter": "python",
   "pygments_lexer": "ipython3",
   "version": "3.9.16"
  }
 },
 "nbformat": 4,
 "nbformat_minor": 5
}
