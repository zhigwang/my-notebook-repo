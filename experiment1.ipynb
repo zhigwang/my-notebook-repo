{
 "cells": [
  {
   "cell_type": "code",
   "execution_count": 5,
   "id": "ae93b3c7-fc12-45ef-a38a-5d2fdf9e3030",
   "metadata": {
    "tags": []
   },
   "outputs": [
    {
     "name": "stdout",
     "output_type": "stream",
     "text": [
      "/tmp/tmps96ro247\n",
      "/tmp/tmps96ro247/test.joblib\n",
      "Original object 1: [('a', [1, 2, 3]), ('b', array([0, 1, 2, 3, 4, 5, 6, 7, 8, 9]))]\n",
      "Loaded object 1: [('a', [1, 2, 3]), ('b', array([0, 1, 2, 3, 4, 5, 6, 7, 8, 9]))]\n",
      "minio\n",
      "minio123\n",
      "any\n",
      "http://minio-minio.apps.ocp4.example.com\n",
      "saved-models\n"
     ]
    },
    {
     "ename": "TypeError",
     "evalue": "upload_file() got an unexpected keyword argument 'key'",
     "output_type": "error",
     "traceback": [
      "\u001b[0;31m---------------------------------------------------------------------------\u001b[0m",
      "\u001b[0;31mTypeError\u001b[0m                                 Traceback (most recent call last)",
      "Cell \u001b[0;32mIn[5], line 58\u001b[0m\n\u001b[1;32m     48\u001b[0m \u001b[38;5;28mprint\u001b[39m(bucket_name)\n\u001b[1;32m     50\u001b[0m s3_client \u001b[38;5;241m=\u001b[39m boto3\u001b[38;5;241m.\u001b[39mclient(\n\u001b[1;32m     51\u001b[0m   \u001b[38;5;124m\"\u001b[39m\u001b[38;5;124ms3\u001b[39m\u001b[38;5;124m\"\u001b[39m,\n\u001b[1;32m     52\u001b[0m    aws_access_key_id\u001b[38;5;241m=\u001b[39mkey_id,\n\u001b[0;32m   (...)\u001b[0m\n\u001b[1;32m     55\u001b[0m    verify\u001b[38;5;241m=\u001b[39m\u001b[38;5;28;01mFalse\u001b[39;00m\n\u001b[1;32m     56\u001b[0m )\n\u001b[0;32m---> 58\u001b[0m \u001b[43ms3_client\u001b[49m\u001b[38;5;241;43m.\u001b[39;49m\u001b[43mupload_file\u001b[49m\u001b[43m(\u001b[49m\u001b[43mtest_file_name\u001b[49m\u001b[43m,\u001b[49m\u001b[43mbucket_name\u001b[49m\u001b[43m,\u001b[49m\u001b[43mkey\u001b[49m\u001b[38;5;241;43m=\u001b[39;49m\u001b[43mtest_file_name\u001b[49m\u001b[43m)\u001b[49m\n\u001b[1;32m     59\u001b[0m \u001b[38;5;28mprint\u001b[39m(\u001b[38;5;124mf\u001b[39m\u001b[38;5;124m\"\u001b[39m\u001b[38;5;124mFile\u001b[39m\u001b[38;5;132;01m{\u001b[39;00mtest_file_name\u001b[38;5;132;01m}\u001b[39;00m\u001b[38;5;124m uploaded to S3!\u001b[39m\u001b[38;5;124m\"\u001b[39m)\n",
      "\u001b[0;31mTypeError\u001b[0m: upload_file() got an unexpected keyword argument 'key'"
     ]
    }
   ],
   "source": [
    "import os\n",
    "import boto3\n",
    "import io\n",
    "import joblib\n",
    "\n",
    "#first create a temp dir\n",
    "\n",
    "from tempfile import mkdtemp\n",
    "savedir = mkdtemp()\n",
    "print (savedir)\n",
    "test_file_name = os.path.join(savedir,'test.joblib')\n",
    "print (test_file_name)\n",
    "\n",
    "# then create an object to be persisted\n",
    "\n",
    "import numpy as np\n",
    "to_persist = [('a', [1, 2, 3]), ('b', np.arange(10))]\n",
    "\n",
    "# which is saved into test_file_name\n",
    "joblib.dump(to_persist, test_file_name)\n",
    "loaded_object1 = joblib.load(test_file_name)\n",
    "\n",
    "print(f\"Original object 1: {to_persist}\")\n",
    "print(f\"Loaded object 1: {loaded_object1}\")\n",
    "\n",
    "\n",
    "# persist in file file objects\n",
    "\n",
    "#with open(test_file_name, 'wb') as fo:\n",
    "#    joblib.dump(to_persist, fo)\n",
    "#with open(test_file_name, 'rb') as fo:\n",
    "#    loaded_object = joblib.load(fo)\n",
    "\n",
    "#print(f\"original object:{to_persist}\")\n",
    "#print(f\"loaded object:{loaded_object}\")\n",
    "#import plotly.express as px\n",
    "\n",
    "key_id = os.getenv(\"AWS_ACCESS_KEY_ID\")\n",
    "secret_key =os.getenv(\"AWS_SECRET_ACCESS_KEY\")\n",
    "region = os.getenv(\"AWS_DEFAULT_REGION\")\n",
    "endpoint = os.getenv(\"AWS_S3_ENDPOINT\")\n",
    "bucket_name = os.getenv(\"AWS_S3_BUCKET\")\n",
    "\n",
    "print(key_id)\n",
    "print(secret_key)\n",
    "print(region)\n",
    "print(endpoint)\n",
    "print(bucket_name)\n",
    "\n",
    "s3_client = boto3.client(\n",
    "  \"s3\",\n",
    "   aws_access_key_id=key_id,\n",
    "   aws_secret_access_key=secret_key,\n",
    "   endpoint_url=endpoint,\n",
    "   verify=False\n",
    ")\n",
    "\n",
    "s3_client.upload_file(test_file_name,bucket_name,key=test_file_name)\n",
    "print(f\"File{test_file_name} uploaded to S3!\")\n",
    "\n",
    "\n"
   ]
  },
  {
   "cell_type": "code",
   "execution_count": null,
   "id": "45910190-f84b-4623-babc-baef3647b664",
   "metadata": {},
   "outputs": [],
   "source": []
  }
 ],
 "metadata": {
  "kernelspec": {
   "display_name": "Python 3.9",
   "language": "python",
   "name": "python3"
  },
  "language_info": {
   "codemirror_mode": {
    "name": "ipython",
    "version": 3
   },
   "file_extension": ".py",
   "mimetype": "text/x-python",
   "name": "python",
   "nbconvert_exporter": "python",
   "pygments_lexer": "ipython3",
   "version": "3.9.16"
  }
 },
 "nbformat": 4,
 "nbformat_minor": 5
}
